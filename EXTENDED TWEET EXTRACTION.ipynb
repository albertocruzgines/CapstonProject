{
 "cells": [
  {
   "cell_type": "code",
   "execution_count": 1,
   "metadata": {
    "collapsed": true
   },
   "outputs": [],
   "source": [
    "import pandas as pd\n",
    "import numpy as np\n",
    "import scipy\n",
    "import csv\n",
    "import re\n",
    "import nltk\n",
    "from nltk.tokenize import TweetTokenizer \n",
    "import numpy as np\n",
    "from sklearn.model_selection import train_test_split\n",
    "from sklearn.metrics import confusion_matrix\n",
    "from sklearn.model_selection import cross_val_score\n",
    "from sklearn.model_selection import GridSearchCV\n",
    "import itertools\n",
    "from random import *\n",
    "import time\n",
    "\n",
    "import matplotlib.pyplot as plt\n",
    "import matplotlib\n",
    "\n",
    "\n",
    "pd.set_option('display.max_colwidth', -1) # to show all the content of the colum text\n",
    "\n",
    "from sklearn.feature_extraction.text import CountVectorizer\n",
    "from sklearn.naive_bayes import BernoulliNB\n",
    "from sklearn.preprocessing import StandardScaler \n",
    "from sklearn import metrics\n",
    "from sklearn.naive_bayes import BernoulliNB\n",
    "from sklearn.naive_bayes import MultinomialNB\n",
    "from sklearn import tree\n",
    "from sklearn.neighbors import KNeighborsClassifier\n",
    "from sklearn import svm\n",
    "from sklearn.neural_network import MLPClassifier\n",
    "from sklearn.metrics import classification_report,confusion_matrix\n",
    "from sklearn.ensemble import RandomForestClassifier\n",
    "from sklearn.linear_model import LogisticRegression\n",
    "\n",
    "\n",
    "# import for visualization\n",
    "\n",
    "%matplotlib inline\n",
    "\n",
    "try:\n",
    "    import seaborn as sns\n",
    "except:\n",
    "    print('Seaborn must be installed to continue (pip install seaborn).\\nIt provides an enhanced plotting experience', file=sys.stderr)\n",
    "    if input('Do you want me to do it for you? y/n') == 'y':\n",
    "        !pip install seaborn\n",
    "    \n",
    "    import seaborn as sns"
   ]
  },
  {
   "cell_type": "markdown",
   "metadata": {},
   "source": [
    "# IMPORT TWEETS"
   ]
  },
  {
   "cell_type": "code",
   "execution_count": 2,
   "metadata": {
    "collapsed": true
   },
   "outputs": [],
   "source": [
    "#original DB\n",
    "df = pd.read_csv(\"C:/Users/cvalentino/Desktop/UB/Project/data/tweets_publics_2.csv\", encoding='utf-16', \n",
    "                 index_col='tweet_id', \n",
    "                 sep=',')\n",
    "\n",
    "df.airline_sentiment = pd.Categorical(df.airline_sentiment)\n",
    "df.tweet_created = pd.to_datetime(df.tweet_created)\n",
    "\n",
    "\n",
    "#cleansed DB\n",
    "\n",
    "df_clean = pd.read_csv(\"C:/Users/cvalentino/Desktop/UB/Project/data/tweets_publics_clean.csv\", encoding='ansi', \n",
    "                 index_col='tweet_id', \n",
    "                 sep='\\t')\n"
   ]
  },
  {
   "cell_type": "code",
   "execution_count": 3,
   "metadata": {},
   "outputs": [
    {
     "data": {
      "text/html": [
       "<div>\n",
       "<style>\n",
       "    .dataframe thead tr:only-child th {\n",
       "        text-align: right;\n",
       "    }\n",
       "\n",
       "    .dataframe thead th {\n",
       "        text-align: left;\n",
       "    }\n",
       "\n",
       "    .dataframe tbody tr th {\n",
       "        vertical-align: top;\n",
       "    }\n",
       "</style>\n",
       "<table border=\"1\" class=\"dataframe\">\n",
       "  <thead>\n",
       "    <tr style=\"text-align: right;\">\n",
       "      <th></th>\n",
       "      <th>airline_sentiment</th>\n",
       "      <th>is_reply</th>\n",
       "      <th>reply_count</th>\n",
       "      <th>retweet_count</th>\n",
       "      <th>text</th>\n",
       "      <th>tweet_coord</th>\n",
       "      <th>tweet_created</th>\n",
       "      <th>tweet_location</th>\n",
       "      <th>user_timezone</th>\n",
       "    </tr>\n",
       "    <tr>\n",
       "      <th>tweet_id</th>\n",
       "      <th></th>\n",
       "      <th></th>\n",
       "      <th></th>\n",
       "      <th></th>\n",
       "      <th></th>\n",
       "      <th></th>\n",
       "      <th></th>\n",
       "      <th></th>\n",
       "      <th></th>\n",
       "    </tr>\n",
       "  </thead>\n",
       "  <tbody>\n",
       "    <tr>\n",
       "      <th>942743012337123328</th>\n",
       "      <td>positive</td>\n",
       "      <td>False</td>\n",
       "      <td>0</td>\n",
       "      <td>0</td>\n",
       "      <td>\"Los pilotos de Ryanair desconvocan la huelga tras ver reconocidos sus sindicatos\" by El País via Últimas noticias… https://t.co/80Fz6dxP9t</td>\n",
       "      <td>NaN</td>\n",
       "      <td>2017-12-18 13:07:04</td>\n",
       "      <td>NaN</td>\n",
       "      <td>Dublin</td>\n",
       "    </tr>\n",
       "    <tr>\n",
       "      <th>926857871916183553</th>\n",
       "      <td>positive</td>\n",
       "      <td>True</td>\n",
       "      <td>0</td>\n",
       "      <td>0</td>\n",
       "      <td>@Iberia @lavecinarubia Si ,por favor las declaraciones de amor entre los  #rubijarena no  pueden quedarse en una ma… https://t.co/GWKJGhhubY</td>\n",
       "      <td>NaN</td>\n",
       "      <td>2017-11-04 17:05:11</td>\n",
       "      <td>NaN</td>\n",
       "      <td>NaN</td>\n",
       "    </tr>\n",
       "    <tr>\n",
       "      <th>936979305720090626</th>\n",
       "      <td>neutral</td>\n",
       "      <td>True</td>\n",
       "      <td>0</td>\n",
       "      <td>0</td>\n",
       "      <td>@Iberia Me dirías por favor que costo tiene?</td>\n",
       "      <td>NaN</td>\n",
       "      <td>2017-12-02 15:24:09</td>\n",
       "      <td>NaN</td>\n",
       "      <td>NaN</td>\n",
       "    </tr>\n",
       "    <tr>\n",
       "      <th>943983853802328064</th>\n",
       "      <td>negative</td>\n",
       "      <td>True</td>\n",
       "      <td>0</td>\n",
       "      <td>0</td>\n",
       "      <td>@SupermanlopezN @Iberia @giroditalia Champion, no vuele más con esos descarados.</td>\n",
       "      <td>NaN</td>\n",
       "      <td>2017-12-21 23:17:43</td>\n",
       "      <td>NaN</td>\n",
       "      <td>Central Time (US &amp; Canada)</td>\n",
       "    </tr>\n",
       "    <tr>\n",
       "      <th>938207464457211904</th>\n",
       "      <td>negative</td>\n",
       "      <td>True</td>\n",
       "      <td>0</td>\n",
       "      <td>0</td>\n",
       "      <td>@SrtaFarrellDM @KLM @Iberia Eso de avianca es verdad a mi mama le paso dos veces terrible esa aerolínea 😤</td>\n",
       "      <td>NaN</td>\n",
       "      <td>2017-12-06 00:44:25</td>\n",
       "      <td>NaN</td>\n",
       "      <td>Eastern Time (US &amp; Canada)</td>\n",
       "    </tr>\n",
       "  </tbody>\n",
       "</table>\n",
       "</div>"
      ],
      "text/plain": [
       "                   airline_sentiment  is_reply  reply_count  retweet_count  \\\n",
       "tweet_id                                                                     \n",
       "942743012337123328  positive          False     0            0               \n",
       "926857871916183553  positive          True      0            0               \n",
       "936979305720090626  neutral           True      0            0               \n",
       "943983853802328064  negative          True      0            0               \n",
       "938207464457211904  negative          True      0            0               \n",
       "\n",
       "                                                                                                                                                            text  \\\n",
       "tweet_id                                                                                                                                                           \n",
       "942743012337123328  \"Los pilotos de Ryanair desconvocan la huelga tras ver reconocidos sus sindicatos\" by El País via Últimas noticias… https://t.co/80Fz6dxP9t    \n",
       "926857871916183553  @Iberia @lavecinarubia Si ,por favor las declaraciones de amor entre los  #rubijarena no  pueden quedarse en una ma… https://t.co/GWKJGhhubY   \n",
       "936979305720090626  @Iberia Me dirías por favor que costo tiene?                                                                                                   \n",
       "943983853802328064  @SupermanlopezN @Iberia @giroditalia Champion, no vuele más con esos descarados.                                                               \n",
       "938207464457211904  @SrtaFarrellDM @KLM @Iberia Eso de avianca es verdad a mi mama le paso dos veces terrible esa aerolínea 😤                                      \n",
       "\n",
       "                   tweet_coord       tweet_created tweet_location  \\\n",
       "tweet_id                                                            \n",
       "942743012337123328  NaN        2017-12-18 13:07:04  NaN             \n",
       "926857871916183553  NaN        2017-11-04 17:05:11  NaN             \n",
       "936979305720090626  NaN        2017-12-02 15:24:09  NaN             \n",
       "943983853802328064  NaN        2017-12-21 23:17:43  NaN             \n",
       "938207464457211904  NaN        2017-12-06 00:44:25  NaN             \n",
       "\n",
       "                                 user_timezone  \n",
       "tweet_id                                        \n",
       "942743012337123328  Dublin                      \n",
       "926857871916183553  NaN                         \n",
       "936979305720090626  NaN                         \n",
       "943983853802328064  Central Time (US & Canada)  \n",
       "938207464457211904  Eastern Time (US & Canada)  "
      ]
     },
     "execution_count": 3,
     "metadata": {},
     "output_type": "execute_result"
    }
   ],
   "source": [
    "df.head()"
   ]
  },
  {
   "cell_type": "markdown",
   "metadata": {
    "collapsed": true
   },
   "source": [
    "# EXTRACTION OF EXTENDED TEXT"
   ]
  },
  {
   "cell_type": "code",
   "execution_count": 4,
   "metadata": {
    "collapsed": true
   },
   "outputs": [],
   "source": [
    "# TWITTER API SET UP\n",
    "import tweepy\n",
    "\n",
    "\n",
    "CONSUMER_KEY = \"**\"\n",
    "CONSUMER_SECRET = \"**\"\n",
    "OAUTH_TOKEN = \"**\"\n",
    "OAUTH_TOKEN_SECRET = \"**\"\n",
    "\n",
    "\n",
    "auth = tweepy.OAuthHandler(CONSUMER_KEY, CONSUMER_SECRET)\n",
    "auth.set_access_token(OAUTH_TOKEN, OAUTH_TOKEN_SECRET)\n",
    "api = tweepy.API(auth)\n",
    "\n"
   ]
  },
  {
   "cell_type": "code",
   "execution_count": 5,
   "metadata": {},
   "outputs": [
    {
     "name": "stdout",
     "output_type": "stream",
     "text": [
      "No solo en los periódicos encuentro a @JuanitoLibritos , comprando en Ryanair también lo veo como parte de una fami… https://t.co/sSEvHM3h7h\n"
     ]
    }
   ],
   "source": [
    "# RETRIVE TWIT IN SHORT MODE (as-is)\n",
    "\n",
    "id_of_tweet = 932626561966247936\n",
    "\n",
    "tweet = api.get_status(id_of_tweet)\n",
    "print(tweet.text)"
   ]
  },
  {
   "cell_type": "code",
   "execution_count": 6,
   "metadata": {},
   "outputs": [
    {
     "name": "stdout",
     "output_type": "stream",
     "text": [
      "No solo en los periódicos encuentro a @JuanitoLibritos , comprando en Ryanair también lo veo como parte de una familia estándar... ,,😂😂😂 https://t.co/UqE37UNlhU\n"
     ]
    }
   ],
   "source": [
    "# RETRIVE TWIT IN EXTENDED MODE (TO-BE)\n",
    "\n",
    "id_of_tweet = 932626561966247936\n",
    "\n",
    "tweet = (api.get_status(id_of_tweet, tweet_mode='extended')._json['full_text'])\n",
    "print(tweet)"
   ]
  },
  {
   "cell_type": "code",
   "execution_count": 7,
   "metadata": {
    "collapsed": true
   },
   "outputs": [],
   "source": [
    "#creating a column = to the index to be used as function argument\n",
    "\n",
    "df['index1'] = df.index"
   ]
  },
  {
   "cell_type": "code",
   "execution_count": 8,
   "metadata": {
    "collapsed": true
   },
   "outputs": [],
   "source": [
    "# function to retrieve the whole tweet via tweepy\n",
    "\n",
    "def tweet_extend (tweet_id):\n",
    "    \n",
    "    try:\n",
    "        return api.get_status(tweet_id, tweet_mode='extended')._json['full_text']\n",
    "    except:\n",
    "        return \"ERROR\"\n"
   ]
  },
  {
   "cell_type": "code",
   "execution_count": 62,
   "metadata": {
    "collapsed": true
   },
   "outputs": [],
   "source": [
    "# NOOOO OOOLD\n",
    "\n",
    "def tweet_extend (tweet_id):\n",
    "    \n",
    "    return api.get_status(tweet_id, tweet_mode='extended')._json['full_text']"
   ]
  },
  {
   "cell_type": "code",
   "execution_count": 60,
   "metadata": {
    "collapsed": true
   },
   "outputs": [],
   "source": [
    "# NOOOOOO BETTER NOT TO USE\n",
    "\n",
    "def tweet_extend (tweet_id):\n",
    "    \n",
    "    try:\n",
    "        return api.get_status(tweet_id, tweet_mode='extended')._json['full_text']\n",
    "    except:\n",
    "        time.sleep(15 * 60)\n",
    "        return \"ERROR\"\n",
    "        \n"
   ]
  },
  {
   "cell_type": "code",
   "execution_count": 21,
   "metadata": {
    "collapsed": true
   },
   "outputs": [],
   "source": [
    "# apply the tweet extend function\n",
    "\n",
    "# prepared for run\n",
    "\n",
    "df['text_extended'] = df.index1[898:1061].apply(tweet_extend)\n",
    "\n",
    "\n",
    "# mancano 900 - 1058\n",
    "\n",
    "\n"
   ]
  },
  {
   "cell_type": "code",
   "execution_count": 22,
   "metadata": {
    "collapsed": true
   },
   "outputs": [],
   "source": [
    "# extract extended tweets DB to csv\n",
    "\n",
    "df.to_csv(\"C:/Users/cvalentino/Desktop/UB/Project/data/tweets_publics_ext.csv\", sep=',')"
   ]
  },
  {
   "cell_type": "code",
   "execution_count": 24,
   "metadata": {
    "collapsed": true
   },
   "outputs": [],
   "source": [
    "#re - upload complete file (processed in excel)\n",
    "\n",
    "df1 = pd.read_csv(\"C:/Users/cvalentino/Desktop/UB/Project/data/tweets_publics_ext_all.csv\", encoding='ANSI', \n",
    "                 index_col='tweet_id', \n",
    "                 sep=',')\n",
    "\n",
    "\n"
   ]
  },
  {
   "cell_type": "code",
   "execution_count": 27,
   "metadata": {},
   "outputs": [
    {
     "data": {
      "text/html": [
       "<div>\n",
       "<style>\n",
       "    .dataframe thead tr:only-child th {\n",
       "        text-align: right;\n",
       "    }\n",
       "\n",
       "    .dataframe thead th {\n",
       "        text-align: left;\n",
       "    }\n",
       "\n",
       "    .dataframe tbody tr th {\n",
       "        vertical-align: top;\n",
       "    }\n",
       "</style>\n",
       "<table border=\"1\" class=\"dataframe\">\n",
       "  <thead>\n",
       "    <tr style=\"text-align: right;\">\n",
       "      <th></th>\n",
       "      <th>airline_sentiment</th>\n",
       "      <th>is_reply</th>\n",
       "      <th>reply_count</th>\n",
       "      <th>retweet_count</th>\n",
       "      <th>text</th>\n",
       "      <th>tweet_coord</th>\n",
       "      <th>tweet_created</th>\n",
       "      <th>tweet_location</th>\n",
       "      <th>user_timezone</th>\n",
       "      <th>index1</th>\n",
       "      <th>text_extended</th>\n",
       "      <th>text_extended_final</th>\n",
       "    </tr>\n",
       "    <tr>\n",
       "      <th>tweet_id</th>\n",
       "      <th></th>\n",
       "      <th></th>\n",
       "      <th></th>\n",
       "      <th></th>\n",
       "      <th></th>\n",
       "      <th></th>\n",
       "      <th></th>\n",
       "      <th></th>\n",
       "      <th></th>\n",
       "      <th></th>\n",
       "      <th></th>\n",
       "      <th></th>\n",
       "    </tr>\n",
       "  </thead>\n",
       "  <tbody>\n",
       "    <tr>\n",
       "      <th>9.430000e+17</th>\n",
       "      <td>positive</td>\n",
       "      <td>False</td>\n",
       "      <td>0</td>\n",
       "      <td>0</td>\n",
       "      <td>\"Los pilotos de Ryanair desconvocan la huelga tras ver reconocidos sus sindicatos\" by El País via Últimas noticias… https://t.co/80Fz6dxP9t</td>\n",
       "      <td>NaN</td>\n",
       "      <td>43087.54653</td>\n",
       "      <td>NaN</td>\n",
       "      <td>Dublin</td>\n",
       "      <td>9.430000e+17</td>\n",
       "      <td>\"Los pilotos de Ryanair desconvocan la huelga tras ver reconocidos sus sindicatos\" by El País via Últimas noticias | EL PAÍS https://t.co/TzXLNtkzMR</td>\n",
       "      <td>\"Los pilotos de Ryanair desconvocan la huelga tras ver reconocidos sus sindicatos\" by El País via Últimas noticias | EL PAÍS https://t.co/TzXLNtkzMR</td>\n",
       "    </tr>\n",
       "    <tr>\n",
       "      <th>9.270000e+17</th>\n",
       "      <td>positive</td>\n",
       "      <td>True</td>\n",
       "      <td>0</td>\n",
       "      <td>0</td>\n",
       "      <td>@Iberia @lavecinarubia Si ,por favor las declaraciones de amor entre los  #rubijarena no  pueden quedarse en una ma… https://t.co/GWKJGhhubY</td>\n",
       "      <td>NaN</td>\n",
       "      <td>43043.71181</td>\n",
       "      <td>NaN</td>\n",
       "      <td>NaN</td>\n",
       "      <td>9.270000e+17</td>\n",
       "      <td>@Iberia @lavecinarubia Si ,por favor las declaraciones de amor entre los  #rubijarena no  pueden quedarse en una maleta . #cuandooigoqueJonledicevecinita ??</td>\n",
       "      <td>@Iberia @lavecinarubia Si ,por favor las declaraciones de amor entre los  #rubijarena no  pueden quedarse en una maleta . #cuandooigoqueJonledicevecinita ??</td>\n",
       "    </tr>\n",
       "    <tr>\n",
       "      <th>9.370000e+17</th>\n",
       "      <td>neutral</td>\n",
       "      <td>True</td>\n",
       "      <td>0</td>\n",
       "      <td>0</td>\n",
       "      <td>@Iberia Me dirías por favor que costo tiene?</td>\n",
       "      <td>NaN</td>\n",
       "      <td>43071.64167</td>\n",
       "      <td>NaN</td>\n",
       "      <td>NaN</td>\n",
       "      <td>9.370000e+17</td>\n",
       "      <td>@Iberia Me dirías por favor que costo tiene?</td>\n",
       "      <td>@Iberia Me dirías por favor que costo tiene?</td>\n",
       "    </tr>\n",
       "    <tr>\n",
       "      <th>9.440000e+17</th>\n",
       "      <td>negative</td>\n",
       "      <td>True</td>\n",
       "      <td>0</td>\n",
       "      <td>0</td>\n",
       "      <td>@SupermanlopezN @Iberia @giroditalia Champion, no vuele más con esos descarados.</td>\n",
       "      <td>NaN</td>\n",
       "      <td>43090.97014</td>\n",
       "      <td>NaN</td>\n",
       "      <td>Central Time (US &amp; Canada)</td>\n",
       "      <td>9.440000e+17</td>\n",
       "      <td>@SupermanlopezN @Iberia @giroditalia Champion, no vuele más con esos descarados.</td>\n",
       "      <td>@SupermanlopezN @Iberia @giroditalia Champion, no vuele más con esos descarados.</td>\n",
       "    </tr>\n",
       "    <tr>\n",
       "      <th>9.380000e+17</th>\n",
       "      <td>negative</td>\n",
       "      <td>True</td>\n",
       "      <td>0</td>\n",
       "      <td>0</td>\n",
       "      <td>@SrtaFarrellDM @KLM @Iberia Eso de avianca es verdad a mi mama le paso dos veces terrible esa aerolínea ?</td>\n",
       "      <td>NaN</td>\n",
       "      <td>43075.03056</td>\n",
       "      <td>NaN</td>\n",
       "      <td>Eastern Time (US &amp; Canada)</td>\n",
       "      <td>9.380000e+17</td>\n",
       "      <td>@SrtaFarrellDM @KLM @Iberia Eso de avianca es verdad a mi mama le paso dos veces terrible esa aerolínea ?</td>\n",
       "      <td>@SrtaFarrellDM @KLM @Iberia Eso de avianca es verdad a mi mama le paso dos veces terrible esa aerolínea ?</td>\n",
       "    </tr>\n",
       "  </tbody>\n",
       "</table>\n",
       "</div>"
      ],
      "text/plain": [
       "             airline_sentiment  is_reply  reply_count  retweet_count  \\\n",
       "tweet_id                                                               \n",
       "9.430000e+17  positive          False     0            0               \n",
       "9.270000e+17  positive          True      0            0               \n",
       "9.370000e+17  neutral           True      0            0               \n",
       "9.440000e+17  negative          True      0            0               \n",
       "9.380000e+17  negative          True      0            0               \n",
       "\n",
       "                                                                                                                                                      text  \\\n",
       "tweet_id                                                                                                                                                     \n",
       "9.430000e+17  \"Los pilotos de Ryanair desconvocan la huelga tras ver reconocidos sus sindicatos\" by El País via Últimas noticias… https://t.co/80Fz6dxP9t    \n",
       "9.270000e+17  @Iberia @lavecinarubia Si ,por favor las declaraciones de amor entre los  #rubijarena no  pueden quedarse en una ma… https://t.co/GWKJGhhubY   \n",
       "9.370000e+17  @Iberia Me dirías por favor que costo tiene?                                                                                                   \n",
       "9.440000e+17  @SupermanlopezN @Iberia @giroditalia Champion, no vuele más con esos descarados.                                                               \n",
       "9.380000e+17  @SrtaFarrellDM @KLM @Iberia Eso de avianca es verdad a mi mama le paso dos veces terrible esa aerolínea ?                                      \n",
       "\n",
       "             tweet_coord  tweet_created tweet_location  \\\n",
       "tweet_id                                                 \n",
       "9.430000e+17  NaN         43087.54653    NaN             \n",
       "9.270000e+17  NaN         43043.71181    NaN             \n",
       "9.370000e+17  NaN         43071.64167    NaN             \n",
       "9.440000e+17  NaN         43090.97014    NaN             \n",
       "9.380000e+17  NaN         43075.03056    NaN             \n",
       "\n",
       "                           user_timezone        index1  \\\n",
       "tweet_id                                                 \n",
       "9.430000e+17  Dublin                      9.430000e+17   \n",
       "9.270000e+17  NaN                         9.270000e+17   \n",
       "9.370000e+17  NaN                         9.370000e+17   \n",
       "9.440000e+17  Central Time (US & Canada)  9.440000e+17   \n",
       "9.380000e+17  Eastern Time (US & Canada)  9.380000e+17   \n",
       "\n",
       "                                                                                                                                                             text_extended  \\\n",
       "tweet_id                                                                                                                                                                     \n",
       "9.430000e+17  \"Los pilotos de Ryanair desconvocan la huelga tras ver reconocidos sus sindicatos\" by El País via Últimas noticias | EL PAÍS https://t.co/TzXLNtkzMR           \n",
       "9.270000e+17  @Iberia @lavecinarubia Si ,por favor las declaraciones de amor entre los  #rubijarena no  pueden quedarse en una maleta . #cuandooigoqueJonledicevecinita ??   \n",
       "9.370000e+17  @Iberia Me dirías por favor que costo tiene?                                                                                                                   \n",
       "9.440000e+17  @SupermanlopezN @Iberia @giroditalia Champion, no vuele más con esos descarados.                                                                               \n",
       "9.380000e+17  @SrtaFarrellDM @KLM @Iberia Eso de avianca es verdad a mi mama le paso dos veces terrible esa aerolínea ?                                                      \n",
       "\n",
       "                                                                                                                                                       text_extended_final  \n",
       "tweet_id                                                                                                                                                                    \n",
       "9.430000e+17  \"Los pilotos de Ryanair desconvocan la huelga tras ver reconocidos sus sindicatos\" by El País via Últimas noticias | EL PAÍS https://t.co/TzXLNtkzMR          \n",
       "9.270000e+17  @Iberia @lavecinarubia Si ,por favor las declaraciones de amor entre los  #rubijarena no  pueden quedarse en una maleta . #cuandooigoqueJonledicevecinita ??  \n",
       "9.370000e+17  @Iberia Me dirías por favor que costo tiene?                                                                                                                  \n",
       "9.440000e+17  @SupermanlopezN @Iberia @giroditalia Champion, no vuele más con esos descarados.                                                                              \n",
       "9.380000e+17  @SrtaFarrellDM @KLM @Iberia Eso de avianca es verdad a mi mama le paso dos veces terrible esa aerolínea ?                                                     "
      ]
     },
     "execution_count": 27,
     "metadata": {},
     "output_type": "execute_result"
    }
   ],
   "source": [
    "df1.head(5)"
   ]
  }
 ],
 "metadata": {
  "kernelspec": {
   "display_name": "Python 3",
   "language": "python",
   "name": "python3"
  },
  "language_info": {
   "codemirror_mode": {
    "name": "ipython",
    "version": 3
   },
   "file_extension": ".py",
   "mimetype": "text/x-python",
   "name": "python",
   "nbconvert_exporter": "python",
   "pygments_lexer": "ipython3",
   "version": "3.6.1"
  }
 },
 "nbformat": 4,
 "nbformat_minor": 2
}
